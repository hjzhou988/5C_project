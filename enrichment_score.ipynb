{
 "cells": [
  {
   "cell_type": "code",
   "execution_count": 1,
   "metadata": {
    "collapsed": true
   },
   "outputs": [],
   "source": [
    "#read 3-column TF summit bed file. Return count, and  a dictionary, with chromosome as key, list of coordinates as value\n",
    "def readbedfile(bedfilename): \n",
    "    with open(bedfilename,'r') as f:\n",
    "        table=[]\n",
    "        count=0\n",
    "        for line in f:\n",
    "            linetemp=line.split()\n",
    "            chrom=linetemp[0]\n",
    "            a1=linetemp[1]\n",
    "            table.append([chrom, int(a1)]) \n",
    "            count+=1\n",
    "    d={}\n",
    "    for key, val in table:\n",
    "        d.setdefault(key,[]).append(val)\n",
    "    return count, d\n"
   ]
  },
  {
   "cell_type": "code",
   "execution_count": 3,
   "metadata": {},
   "outputs": [
    {
     "data": {
      "text/plain": [
       "(23823, 37911, 89486, 0.23000946183405102)"
      ]
     },
     "execution_count": 3,
     "metadata": {},
     "output_type": "execute_result"
    }
   ],
   "source": [
    "#Enrichment score:  genomewide overlap of two transcription factor:  intersection devided by union\n",
    "\n",
    "Dstn=200\n",
    "def EnrichmentScore(bedfile1,bedfile2):\n",
    "    count1,dict1=readbedfile(bedfile1)\n",
    "    count2,dict2=readbedfile(bedfile2)\n",
    "    intersectcount=0\n",
    "    for chrom1 in dict1:\n",
    "        if chrom1 not in list(dict2.keys()):\n",
    "            continue\n",
    "        for c1 in dict1[chrom1]:\n",
    "            for c2 in dict2[chrom1]:\n",
    "                if abs(c1-c2)<Dstn:\n",
    "                    intersectcount +=1\n",
    "                    break\n",
    "    return (intersectcount)/(count1 + count2 -intersectcount)\n",
    "EnrichmentScore('ChIP-Seq_for_Med12_in_mES_merged_withCtrl_p8_summits.bed','ESC_Klf4_ChIP_seq_macs_summits.bed')"
   ]
  },
  {
   "cell_type": "code",
   "execution_count": 23,
   "metadata": {
    "collapsed": true
   },
   "outputs": [],
   "source": [
    "TFlist=['ESC_Klf4_ChIP_seq_macs_summits.bed','ESC_Oct4_ChIP_seq_macs_summits.bed',\\\n",
    "        'ESC_Sox2_ChIP_seq_macs_summits.bed','ESC_Esrrb_ChIP-seq_macs_summits.bed',\\\n",
    "       'ESC_Nanog_ChIP-seq_macs_summits.bed']\n",
    "Scores1=[]\n",
    "Names1=[]\n",
    "def extractName(s):\n",
    "    return s.split('_')[1]\n",
    "for TF in TFlist:\n",
    "    Scores1.append(EnrichmentScore('ChIP-Seq_for_Med12_in_mES_merged_withCtrl_p8_summits.bed',TF))\n",
    "    Names1.append(extractName(TF))\n"
   ]
  },
  {
   "cell_type": "code",
   "execution_count": 24,
   "metadata": {},
   "outputs": [
    {
     "data": {
      "image/png": "[encoded data removed]",
      "text/plain": [
       "<matplotlib.figure.Figure at 0x114f7fd68>"
      ]
     },
     "metadata": {},
     "output_type": "display_data"
    }
   ],
   "source": [
    "# plot enrichment score for every transcription factor:\n",
    "import matplotlib.pyplot as plt\n",
    "ind=range(5)\n",
    "width = 0.35 \n",
    "plt.bar(ind, Scores1, width)\n",
    "plt.xticks(ind,Names1)\n",
    "plt.ylabel('Enrichment Scores')\n",
    "plt.title('Med12 overlap with reprogramming factors')\n",
    "plt.show()"
   ]
  },
  {
   "cell_type": "code",
   "execution_count": null,
   "metadata": {
    "collapsed": true
   },
   "outputs": [],
   "source": [
    "# Do the same for enrichment score of p300\n",
    "Scores=[]\n",
    "Names=[]\n",
    "for TF in TFlist:\n",
    "    Scores.append(EnrichmentScore('ESC_p300_ChIP-Seq_macs_summits.bed',TF))\n",
    "    Names.append(extractName(TF))"
   ]
  },
  {
   "cell_type": "code",
   "execution_count": 21,
   "metadata": {},
   "outputs": [
    {
     "data": {
      "image/png": "[encoded data removed]",
      "text/plain": [
       "<matplotlib.figure.Figure at 0x1151089b0>"
      ]
     },
     "metadata": {},
     "output_type": "display_data"
    }
   ],
   "source": [
    "ind=range(5)\n",
    "width = 0.35 \n",
    "plt.bar(ind, Scores, width)\n",
    "plt.xticks(ind,Names)\n",
    "plt.ylabel('Enrichment Scores')\n",
    "plt.title('p300 overlap with reprogramming factors')\n",
    "plt.show()"
   ]
  },
  {
   "cell_type": "code",
   "execution_count": null,
   "metadata": {
    "collapsed": true
   },
   "outputs": [],
   "source": []
  }
 ],
 "metadata": {
  "kernelspec": {
   "display_name": "Python 3",
   "language": "python",
   "name": "python3"
  },
  "language_info": {
   "codemirror_mode": {
    "name": "ipython",
    "version": 3
   },
   "file_extension": ".py",
   "mimetype": "text/x-python",
   "name": "python",
   "nbconvert_exporter": "python",
   "pygments_lexer": "ipython3",
   "version": "3.6.3"
  }
 },
 "nbformat": 4,
 "nbformat_minor": 2
}
